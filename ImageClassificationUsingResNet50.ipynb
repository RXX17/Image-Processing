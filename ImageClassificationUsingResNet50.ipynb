{
  "nbformat": 4,
  "nbformat_minor": 0,
  "metadata": {
    "colab": {
      "provenance": [],
      "mount_file_id": "1PFw7h3m_1CuK9zw1eF3FDmn_fZjDQgWR",
      "authorship_tag": "ABX9TyNQTKRtLQI4YX+R6CWf769Z",
      "include_colab_link": true
    },
    "kernelspec": {
      "name": "python3",
      "display_name": "Python 3"
    },
    "language_info": {
      "name": "python"
    },
    "gpuClass": "standard",
    "accelerator": "GPU"
  },
  "cells": [
    {
      "cell_type": "markdown",
      "metadata": {
        "id": "view-in-github",
        "colab_type": "text"
      },
      "source": [
        "<a href=\"https://colab.research.google.com/github/RXX17/Image-Processing/blob/main/ImageClassificationUsingResNet50.ipynb\" target=\"_parent\"><img src=\"https://colab.research.google.com/assets/colab-badge.svg\" alt=\"Open In Colab\"/></a>"
      ]
    },
    {
      "cell_type": "code",
      "execution_count": null,
      "metadata": {
        "id": "33JQM3_EHdnu"
      },
      "outputs": [],
      "source": [
        "# import libraries\n",
        "\n",
        "from tensorflow.keras.layers import Input, Lambda, Dense, Flatten\n",
        "from tensorflow.keras.models import Model\n",
        "from tensorflow.keras.applications.resnet50 import ResNet50\n",
        "#from keras.applications.vgg16 import VGG16\n",
        "from tensorflow.keras.applications.resnet50 import preprocess_input\n",
        "from tensorflow.keras.preprocessing import image\n",
        "from tensorflow.keras.preprocessing.image import ImageDataGenerator,load_img\n",
        "from tensorflow.keras.models import Sequential\n",
        "import numpy as np\n",
        "from glob import glob\n",
        "import matplotlib.pyplot as plt"
      ]
    },
    {
      "cell_type": "code",
      "source": [
        "# Image size and loading datasets\n",
        "IMAGE_SIZE = [250, 250]\n",
        "\n",
        "train_path = '/content/drive/MyDrive/Split/train'\n",
        "valid_path = '/content/drive/MyDrive/Split/val'"
      ],
      "metadata": {
        "id": "swQOJwljH4D1"
      },
      "execution_count": null,
      "outputs": []
    },
    {
      "cell_type": "code",
      "source": [
        "# Import the Vgg 16 library as shown below and add preprocessing layer to the front of VGG\n",
        "# Here we will be using imagenet weights\n",
        "\n",
        "resnet = ResNet50(input_shape=IMAGE_SIZE + [3], weights='imagenet', include_top=False)"
      ],
      "metadata": {
        "colab": {
          "base_uri": "https://localhost:8080/"
        },
        "id": "BY_eOpRLIRU0",
        "outputId": "6f29408d-9507-4742-f2a7-1632246e01ea"
      },
      "execution_count": null,
      "outputs": [
        {
          "output_type": "stream",
          "name": "stdout",
          "text": [
            "Downloading data from https://storage.googleapis.com/tensorflow/keras-applications/resnet/resnet50_weights_tf_dim_ordering_tf_kernels_notop.h5\n",
            "94765736/94765736 [==============================] - 0s 0us/step\n"
          ]
        }
      ]
    },
    {
      "cell_type": "code",
      "source": [
        "# don't train existing weights\n",
        "for layer in resnet.layers:\n",
        "    layer.trainable = False"
      ],
      "metadata": {
        "id": "CSSzuRJ4Ia-e"
      },
      "execution_count": null,
      "outputs": []
    },
    {
      "cell_type": "code",
      "source": [
        "  # useful for getting number of output classes\n",
        "folders = glob('/content/drive/MyDrive/Split/train/*')"
      ],
      "metadata": {
        "id": "r29Ju7uSIjcO"
      },
      "execution_count": null,
      "outputs": []
    },
    {
      "cell_type": "code",
      "source": [
        "# our layers - you can add more if you want\n",
        "x = Flatten()(resnet.output)"
      ],
      "metadata": {
        "id": "hpMFGxq6Itt9"
      },
      "execution_count": null,
      "outputs": []
    },
    {
      "cell_type": "code",
      "source": [
        "prediction = Dense(len(folders), activation='softmax')(x)\n",
        "\n",
        "# create a model object\n",
        "model = Model(inputs=resnet.input, outputs=prediction)"
      ],
      "metadata": {
        "id": "23bhFMB7Iy3x"
      },
      "execution_count": null,
      "outputs": []
    },
    {
      "cell_type": "code",
      "source": [
        "# view the structure of the model\n",
        "model.summary()"
      ],
      "metadata": {
        "colab": {
          "base_uri": "https://localhost:8080/"
        },
        "id": "3t7VDSk6I3l3",
        "outputId": "d129fb78-9960-475e-c91f-1bbcdb82a146"
      },
      "execution_count": null,
      "outputs": [
        {
          "output_type": "stream",
          "name": "stdout",
          "text": [
            "Model: \"model\"\n",
            "__________________________________________________________________________________________________\n",
            " Layer (type)                   Output Shape         Param #     Connected to                     \n",
            "==================================================================================================\n",
            " input_1 (InputLayer)           [(None, 250, 250, 3  0           []                               \n",
            "                                )]                                                                \n",
            "                                                                                                  \n",
            " conv1_pad (ZeroPadding2D)      (None, 256, 256, 3)  0           ['input_1[0][0]']                \n",
            "                                                                                                  \n",
            " conv1_conv (Conv2D)            (None, 125, 125, 64  9472        ['conv1_pad[0][0]']              \n",
            "                                )                                                                 \n",
            "                                                                                                  \n",
            " conv1_bn (BatchNormalization)  (None, 125, 125, 64  256         ['conv1_conv[0][0]']             \n",
            "                                )                                                                 \n",
            "                                                                                                  \n",
            " conv1_relu (Activation)        (None, 125, 125, 64  0           ['conv1_bn[0][0]']               \n",
            "                                )                                                                 \n",
            "                                                                                                  \n",
            " pool1_pad (ZeroPadding2D)      (None, 127, 127, 64  0           ['conv1_relu[0][0]']             \n",
            "                                )                                                                 \n",
            "                                                                                                  \n",
            " pool1_pool (MaxPooling2D)      (None, 63, 63, 64)   0           ['pool1_pad[0][0]']              \n",
            "                                                                                                  \n",
            " conv2_block1_1_conv (Conv2D)   (None, 63, 63, 64)   4160        ['pool1_pool[0][0]']             \n",
            "                                                                                                  \n",
            " conv2_block1_1_bn (BatchNormal  (None, 63, 63, 64)  256         ['conv2_block1_1_conv[0][0]']    \n",
            " ization)                                                                                         \n",
            "                                                                                                  \n",
            " conv2_block1_1_relu (Activatio  (None, 63, 63, 64)  0           ['conv2_block1_1_bn[0][0]']      \n",
            " n)                                                                                               \n",
            "                                                                                                  \n",
            " conv2_block1_2_conv (Conv2D)   (None, 63, 63, 64)   36928       ['conv2_block1_1_relu[0][0]']    \n",
            "                                                                                                  \n",
            " conv2_block1_2_bn (BatchNormal  (None, 63, 63, 64)  256         ['conv2_block1_2_conv[0][0]']    \n",
            " ization)                                                                                         \n",
            "                                                                                                  \n",
            " conv2_block1_2_relu (Activatio  (None, 63, 63, 64)  0           ['conv2_block1_2_bn[0][0]']      \n",
            " n)                                                                                               \n",
            "                                                                                                  \n",
            " conv2_block1_0_conv (Conv2D)   (None, 63, 63, 256)  16640       ['pool1_pool[0][0]']             \n",
            "                                                                                                  \n",
            " conv2_block1_3_conv (Conv2D)   (None, 63, 63, 256)  16640       ['conv2_block1_2_relu[0][0]']    \n",
            "                                                                                                  \n",
            " conv2_block1_0_bn (BatchNormal  (None, 63, 63, 256)  1024       ['conv2_block1_0_conv[0][0]']    \n",
            " ization)                                                                                         \n",
            "                                                                                                  \n",
            " conv2_block1_3_bn (BatchNormal  (None, 63, 63, 256)  1024       ['conv2_block1_3_conv[0][0]']    \n",
            " ization)                                                                                         \n",
            "                                                                                                  \n",
            " conv2_block1_add (Add)         (None, 63, 63, 256)  0           ['conv2_block1_0_bn[0][0]',      \n",
            "                                                                  'conv2_block1_3_bn[0][0]']      \n",
            "                                                                                                  \n",
            " conv2_block1_out (Activation)  (None, 63, 63, 256)  0           ['conv2_block1_add[0][0]']       \n",
            "                                                                                                  \n",
            " conv2_block2_1_conv (Conv2D)   (None, 63, 63, 64)   16448       ['conv2_block1_out[0][0]']       \n",
            "                                                                                                  \n",
            " conv2_block2_1_bn (BatchNormal  (None, 63, 63, 64)  256         ['conv2_block2_1_conv[0][0]']    \n",
            " ization)                                                                                         \n",
            "                                                                                                  \n",
            " conv2_block2_1_relu (Activatio  (None, 63, 63, 64)  0           ['conv2_block2_1_bn[0][0]']      \n",
            " n)                                                                                               \n",
            "                                                                                                  \n",
            " conv2_block2_2_conv (Conv2D)   (None, 63, 63, 64)   36928       ['conv2_block2_1_relu[0][0]']    \n",
            "                                                                                                  \n",
            " conv2_block2_2_bn (BatchNormal  (None, 63, 63, 64)  256         ['conv2_block2_2_conv[0][0]']    \n",
            " ization)                                                                                         \n",
            "                                                                                                  \n",
            " conv2_block2_2_relu (Activatio  (None, 63, 63, 64)  0           ['conv2_block2_2_bn[0][0]']      \n",
            " n)                                                                                               \n",
            "                                                                                                  \n",
            " conv2_block2_3_conv (Conv2D)   (None, 63, 63, 256)  16640       ['conv2_block2_2_relu[0][0]']    \n",
            "                                                                                                  \n",
            " conv2_block2_3_bn (BatchNormal  (None, 63, 63, 256)  1024       ['conv2_block2_3_conv[0][0]']    \n",
            " ization)                                                                                         \n",
            "                                                                                                  \n",
            " conv2_block2_add (Add)         (None, 63, 63, 256)  0           ['conv2_block1_out[0][0]',       \n",
            "                                                                  'conv2_block2_3_bn[0][0]']      \n",
            "                                                                                                  \n",
            " conv2_block2_out (Activation)  (None, 63, 63, 256)  0           ['conv2_block2_add[0][0]']       \n",
            "                                                                                                  \n",
            " conv2_block3_1_conv (Conv2D)   (None, 63, 63, 64)   16448       ['conv2_block2_out[0][0]']       \n",
            "                                                                                                  \n",
            " conv2_block3_1_bn (BatchNormal  (None, 63, 63, 64)  256         ['conv2_block3_1_conv[0][0]']    \n",
            " ization)                                                                                         \n",
            "                                                                                                  \n",
            " conv2_block3_1_relu (Activatio  (None, 63, 63, 64)  0           ['conv2_block3_1_bn[0][0]']      \n",
            " n)                                                                                               \n",
            "                                                                                                  \n",
            " conv2_block3_2_conv (Conv2D)   (None, 63, 63, 64)   36928       ['conv2_block3_1_relu[0][0]']    \n",
            "                                                                                                  \n",
            " conv2_block3_2_bn (BatchNormal  (None, 63, 63, 64)  256         ['conv2_block3_2_conv[0][0]']    \n",
            " ization)                                                                                         \n",
            "                                                                                                  \n",
            " conv2_block3_2_relu (Activatio  (None, 63, 63, 64)  0           ['conv2_block3_2_bn[0][0]']      \n",
            " n)                                                                                               \n",
            "                                                                                                  \n",
            " conv2_block3_3_conv (Conv2D)   (None, 63, 63, 256)  16640       ['conv2_block3_2_relu[0][0]']    \n",
            "                                                                                                  \n",
            " conv2_block3_3_bn (BatchNormal  (None, 63, 63, 256)  1024       ['conv2_block3_3_conv[0][0]']    \n",
            " ization)                                                                                         \n",
            "                                                                                                  \n",
            " conv2_block3_add (Add)         (None, 63, 63, 256)  0           ['conv2_block2_out[0][0]',       \n",
            "                                                                  'conv2_block3_3_bn[0][0]']      \n",
            "                                                                                                  \n",
            " conv2_block3_out (Activation)  (None, 63, 63, 256)  0           ['conv2_block3_add[0][0]']       \n",
            "                                                                                                  \n",
            " conv3_block1_1_conv (Conv2D)   (None, 32, 32, 128)  32896       ['conv2_block3_out[0][0]']       \n",
            "                                                                                                  \n",
            " conv3_block1_1_bn (BatchNormal  (None, 32, 32, 128)  512        ['conv3_block1_1_conv[0][0]']    \n",
            " ization)                                                                                         \n",
            "                                                                                                  \n",
            " conv3_block1_1_relu (Activatio  (None, 32, 32, 128)  0          ['conv3_block1_1_bn[0][0]']      \n",
            " n)                                                                                               \n",
            "                                                                                                  \n",
            " conv3_block1_2_conv (Conv2D)   (None, 32, 32, 128)  147584      ['conv3_block1_1_relu[0][0]']    \n",
            "                                                                                                  \n",
            " conv3_block1_2_bn (BatchNormal  (None, 32, 32, 128)  512        ['conv3_block1_2_conv[0][0]']    \n",
            " ization)                                                                                         \n",
            "                                                                                                  \n",
            " conv3_block1_2_relu (Activatio  (None, 32, 32, 128)  0          ['conv3_block1_2_bn[0][0]']      \n",
            " n)                                                                                               \n",
            "                                                                                                  \n",
            " conv3_block1_0_conv (Conv2D)   (None, 32, 32, 512)  131584      ['conv2_block3_out[0][0]']       \n",
            "                                                                                                  \n",
            " conv3_block1_3_conv (Conv2D)   (None, 32, 32, 512)  66048       ['conv3_block1_2_relu[0][0]']    \n",
            "                                                                                                  \n",
            " conv3_block1_0_bn (BatchNormal  (None, 32, 32, 512)  2048       ['conv3_block1_0_conv[0][0]']    \n",
            " ization)                                                                                         \n",
            "                                                                                                  \n",
            " conv3_block1_3_bn (BatchNormal  (None, 32, 32, 512)  2048       ['conv3_block1_3_conv[0][0]']    \n",
            " ization)                                                                                         \n",
            "                                                                                                  \n",
            " conv3_block1_add (Add)         (None, 32, 32, 512)  0           ['conv3_block1_0_bn[0][0]',      \n",
            "                                                                  'conv3_block1_3_bn[0][0]']      \n",
            "                                                                                                  \n",
            " conv3_block1_out (Activation)  (None, 32, 32, 512)  0           ['conv3_block1_add[0][0]']       \n",
            "                                                                                                  \n",
            " conv3_block2_1_conv (Conv2D)   (None, 32, 32, 128)  65664       ['conv3_block1_out[0][0]']       \n",
            "                                                                                                  \n",
            " conv3_block2_1_bn (BatchNormal  (None, 32, 32, 128)  512        ['conv3_block2_1_conv[0][0]']    \n",
            " ization)                                                                                         \n",
            "                                                                                                  \n",
            " conv3_block2_1_relu (Activatio  (None, 32, 32, 128)  0          ['conv3_block2_1_bn[0][0]']      \n",
            " n)                                                                                               \n",
            "                                                                                                  \n",
            " conv3_block2_2_conv (Conv2D)   (None, 32, 32, 128)  147584      ['conv3_block2_1_relu[0][0]']    \n",
            "                                                                                                  \n",
            " conv3_block2_2_bn (BatchNormal  (None, 32, 32, 128)  512        ['conv3_block2_2_conv[0][0]']    \n",
            " ization)                                                                                         \n",
            "                                                                                                  \n",
            " conv3_block2_2_relu (Activatio  (None, 32, 32, 128)  0          ['conv3_block2_2_bn[0][0]']      \n",
            " n)                                                                                               \n",
            "                                                                                                  \n",
            " conv3_block2_3_conv (Conv2D)   (None, 32, 32, 512)  66048       ['conv3_block2_2_relu[0][0]']    \n",
            "                                                                                                  \n",
            " conv3_block2_3_bn (BatchNormal  (None, 32, 32, 512)  2048       ['conv3_block2_3_conv[0][0]']    \n",
            " ization)                                                                                         \n",
            "                                                                                                  \n",
            " conv3_block2_add (Add)         (None, 32, 32, 512)  0           ['conv3_block1_out[0][0]',       \n",
            "                                                                  'conv3_block2_3_bn[0][0]']      \n",
            "                                                                                                  \n",
            " conv3_block2_out (Activation)  (None, 32, 32, 512)  0           ['conv3_block2_add[0][0]']       \n",
            "                                                                                                  \n",
            " conv3_block3_1_conv (Conv2D)   (None, 32, 32, 128)  65664       ['conv3_block2_out[0][0]']       \n",
            "                                                                                                  \n",
            " conv3_block3_1_bn (BatchNormal  (None, 32, 32, 128)  512        ['conv3_block3_1_conv[0][0]']    \n",
            " ization)                                                                                         \n",
            "                                                                                                  \n",
            " conv3_block3_1_relu (Activatio  (None, 32, 32, 128)  0          ['conv3_block3_1_bn[0][0]']      \n",
            " n)                                                                                               \n",
            "                                                                                                  \n",
            " conv3_block3_2_conv (Conv2D)   (None, 32, 32, 128)  147584      ['conv3_block3_1_relu[0][0]']    \n",
            "                                                                                                  \n",
            " conv3_block3_2_bn (BatchNormal  (None, 32, 32, 128)  512        ['conv3_block3_2_conv[0][0]']    \n",
            " ization)                                                                                         \n",
            "                                                                                                  \n",
            " conv3_block3_2_relu (Activatio  (None, 32, 32, 128)  0          ['conv3_block3_2_bn[0][0]']      \n",
            " n)                                                                                               \n",
            "                                                                                                  \n",
            " conv3_block3_3_conv (Conv2D)   (None, 32, 32, 512)  66048       ['conv3_block3_2_relu[0][0]']    \n",
            "                                                                                                  \n",
            " conv3_block3_3_bn (BatchNormal  (None, 32, 32, 512)  2048       ['conv3_block3_3_conv[0][0]']    \n",
            " ization)                                                                                         \n",
            "                                                                                                  \n",
            " conv3_block3_add (Add)         (None, 32, 32, 512)  0           ['conv3_block2_out[0][0]',       \n",
            "                                                                  'conv3_block3_3_bn[0][0]']      \n",
            "                                                                                                  \n",
            " conv3_block3_out (Activation)  (None, 32, 32, 512)  0           ['conv3_block3_add[0][0]']       \n",
            "                                                                                                  \n",
            " conv3_block4_1_conv (Conv2D)   (None, 32, 32, 128)  65664       ['conv3_block3_out[0][0]']       \n",
            "                                                                                                  \n",
            " conv3_block4_1_bn (BatchNormal  (None, 32, 32, 128)  512        ['conv3_block4_1_conv[0][0]']    \n",
            " ization)                                                                                         \n",
            "                                                                                                  \n",
            " conv3_block4_1_relu (Activatio  (None, 32, 32, 128)  0          ['conv3_block4_1_bn[0][0]']      \n",
            " n)                                                                                               \n",
            "                                                                                                  \n",
            " conv3_block4_2_conv (Conv2D)   (None, 32, 32, 128)  147584      ['conv3_block4_1_relu[0][0]']    \n",
            "                                                                                                  \n",
            " conv3_block4_2_bn (BatchNormal  (None, 32, 32, 128)  512        ['conv3_block4_2_conv[0][0]']    \n",
            " ization)                                                                                         \n",
            "                                                                                                  \n",
            " conv3_block4_2_relu (Activatio  (None, 32, 32, 128)  0          ['conv3_block4_2_bn[0][0]']      \n",
            " n)                                                                                               \n",
            "                                                                                                  \n",
            " conv3_block4_3_conv (Conv2D)   (None, 32, 32, 512)  66048       ['conv3_block4_2_relu[0][0]']    \n",
            "                                                                                                  \n",
            " conv3_block4_3_bn (BatchNormal  (None, 32, 32, 512)  2048       ['conv3_block4_3_conv[0][0]']    \n",
            " ization)                                                                                         \n",
            "                                                                                                  \n",
            " conv3_block4_add (Add)         (None, 32, 32, 512)  0           ['conv3_block3_out[0][0]',       \n",
            "                                                                  'conv3_block4_3_bn[0][0]']      \n",
            "                                                                                                  \n",
            " conv3_block4_out (Activation)  (None, 32, 32, 512)  0           ['conv3_block4_add[0][0]']       \n",
            "                                                                                                  \n",
            " conv4_block1_1_conv (Conv2D)   (None, 16, 16, 256)  131328      ['conv3_block4_out[0][0]']       \n",
            "                                                                                                  \n",
            " conv4_block1_1_bn (BatchNormal  (None, 16, 16, 256)  1024       ['conv4_block1_1_conv[0][0]']    \n",
            " ization)                                                                                         \n",
            "                                                                                                  \n",
            " conv4_block1_1_relu (Activatio  (None, 16, 16, 256)  0          ['conv4_block1_1_bn[0][0]']      \n",
            " n)                                                                                               \n",
            "                                                                                                  \n",
            " conv4_block1_2_conv (Conv2D)   (None, 16, 16, 256)  590080      ['conv4_block1_1_relu[0][0]']    \n",
            "                                                                                                  \n",
            " conv4_block1_2_bn (BatchNormal  (None, 16, 16, 256)  1024       ['conv4_block1_2_conv[0][0]']    \n",
            " ization)                                                                                         \n",
            "                                                                                                  \n",
            " conv4_block1_2_relu (Activatio  (None, 16, 16, 256)  0          ['conv4_block1_2_bn[0][0]']      \n",
            " n)                                                                                               \n",
            "                                                                                                  \n",
            " conv4_block1_0_conv (Conv2D)   (None, 16, 16, 1024  525312      ['conv3_block4_out[0][0]']       \n",
            "                                )                                                                 \n",
            "                                                                                                  \n",
            " conv4_block1_3_conv (Conv2D)   (None, 16, 16, 1024  263168      ['conv4_block1_2_relu[0][0]']    \n",
            "                                )                                                                 \n",
            "                                                                                                  \n",
            " conv4_block1_0_bn (BatchNormal  (None, 16, 16, 1024  4096       ['conv4_block1_0_conv[0][0]']    \n",
            " ization)                       )                                                                 \n",
            "                                                                                                  \n",
            " conv4_block1_3_bn (BatchNormal  (None, 16, 16, 1024  4096       ['conv4_block1_3_conv[0][0]']    \n",
            " ization)                       )                                                                 \n",
            "                                                                                                  \n",
            " conv4_block1_add (Add)         (None, 16, 16, 1024  0           ['conv4_block1_0_bn[0][0]',      \n",
            "                                )                                 'conv4_block1_3_bn[0][0]']      \n",
            "                                                                                                  \n",
            " conv4_block1_out (Activation)  (None, 16, 16, 1024  0           ['conv4_block1_add[0][0]']       \n",
            "                                )                                                                 \n",
            "                                                                                                  \n",
            " conv4_block2_1_conv (Conv2D)   (None, 16, 16, 256)  262400      ['conv4_block1_out[0][0]']       \n",
            "                                                                                                  \n",
            " conv4_block2_1_bn (BatchNormal  (None, 16, 16, 256)  1024       ['conv4_block2_1_conv[0][0]']    \n",
            " ization)                                                                                         \n",
            "                                                                                                  \n",
            " conv4_block2_1_relu (Activatio  (None, 16, 16, 256)  0          ['conv4_block2_1_bn[0][0]']      \n",
            " n)                                                                                               \n",
            "                                                                                                  \n",
            " conv4_block2_2_conv (Conv2D)   (None, 16, 16, 256)  590080      ['conv4_block2_1_relu[0][0]']    \n",
            "                                                                                                  \n",
            " conv4_block2_2_bn (BatchNormal  (None, 16, 16, 256)  1024       ['conv4_block2_2_conv[0][0]']    \n",
            " ization)                                                                                         \n",
            "                                                                                                  \n",
            " conv4_block2_2_relu (Activatio  (None, 16, 16, 256)  0          ['conv4_block2_2_bn[0][0]']      \n",
            " n)                                                                                               \n",
            "                                                                                                  \n",
            " conv4_block2_3_conv (Conv2D)   (None, 16, 16, 1024  263168      ['conv4_block2_2_relu[0][0]']    \n",
            "                                )                                                                 \n",
            "                                                                                                  \n",
            " conv4_block2_3_bn (BatchNormal  (None, 16, 16, 1024  4096       ['conv4_block2_3_conv[0][0]']    \n",
            " ization)                       )                                                                 \n",
            "                                                                                                  \n",
            " conv4_block2_add (Add)         (None, 16, 16, 1024  0           ['conv4_block1_out[0][0]',       \n",
            "                                )                                 'conv4_block2_3_bn[0][0]']      \n",
            "                                                                                                  \n",
            " conv4_block2_out (Activation)  (None, 16, 16, 1024  0           ['conv4_block2_add[0][0]']       \n",
            "                                )                                                                 \n",
            "                                                                                                  \n",
            " conv4_block3_1_conv (Conv2D)   (None, 16, 16, 256)  262400      ['conv4_block2_out[0][0]']       \n",
            "                                                                                                  \n",
            " conv4_block3_1_bn (BatchNormal  (None, 16, 16, 256)  1024       ['conv4_block3_1_conv[0][0]']    \n",
            " ization)                                                                                         \n",
            "                                                                                                  \n",
            " conv4_block3_1_relu (Activatio  (None, 16, 16, 256)  0          ['conv4_block3_1_bn[0][0]']      \n",
            " n)                                                                                               \n",
            "                                                                                                  \n",
            " conv4_block3_2_conv (Conv2D)   (None, 16, 16, 256)  590080      ['conv4_block3_1_relu[0][0]']    \n",
            "                                                                                                  \n",
            " conv4_block3_2_bn (BatchNormal  (None, 16, 16, 256)  1024       ['conv4_block3_2_conv[0][0]']    \n",
            " ization)                                                                                         \n",
            "                                                                                                  \n",
            " conv4_block3_2_relu (Activatio  (None, 16, 16, 256)  0          ['conv4_block3_2_bn[0][0]']      \n",
            " n)                                                                                               \n",
            "                                                                                                  \n",
            " conv4_block3_3_conv (Conv2D)   (None, 16, 16, 1024  263168      ['conv4_block3_2_relu[0][0]']    \n",
            "                                )                                                                 \n",
            "                                                                                                  \n",
            " conv4_block3_3_bn (BatchNormal  (None, 16, 16, 1024  4096       ['conv4_block3_3_conv[0][0]']    \n",
            " ization)                       )                                                                 \n",
            "                                                                                                  \n",
            " conv4_block3_add (Add)         (None, 16, 16, 1024  0           ['conv4_block2_out[0][0]',       \n",
            "                                )                                 'conv4_block3_3_bn[0][0]']      \n",
            "                                                                                                  \n",
            " conv4_block3_out (Activation)  (None, 16, 16, 1024  0           ['conv4_block3_add[0][0]']       \n",
            "                                )                                                                 \n",
            "                                                                                                  \n",
            " conv4_block4_1_conv (Conv2D)   (None, 16, 16, 256)  262400      ['conv4_block3_out[0][0]']       \n",
            "                                                                                                  \n",
            " conv4_block4_1_bn (BatchNormal  (None, 16, 16, 256)  1024       ['conv4_block4_1_conv[0][0]']    \n",
            " ization)                                                                                         \n",
            "                                                                                                  \n",
            " conv4_block4_1_relu (Activatio  (None, 16, 16, 256)  0          ['conv4_block4_1_bn[0][0]']      \n",
            " n)                                                                                               \n",
            "                                                                                                  \n",
            " conv4_block4_2_conv (Conv2D)   (None, 16, 16, 256)  590080      ['conv4_block4_1_relu[0][0]']    \n",
            "                                                                                                  \n",
            " conv4_block4_2_bn (BatchNormal  (None, 16, 16, 256)  1024       ['conv4_block4_2_conv[0][0]']    \n",
            " ization)                                                                                         \n",
            "                                                                                                  \n",
            " conv4_block4_2_relu (Activatio  (None, 16, 16, 256)  0          ['conv4_block4_2_bn[0][0]']      \n",
            " n)                                                                                               \n",
            "                                                                                                  \n",
            " conv4_block4_3_conv (Conv2D)   (None, 16, 16, 1024  263168      ['conv4_block4_2_relu[0][0]']    \n",
            "                                )                                                                 \n",
            "                                                                                                  \n",
            " conv4_block4_3_bn (BatchNormal  (None, 16, 16, 1024  4096       ['conv4_block4_3_conv[0][0]']    \n",
            " ization)                       )                                                                 \n",
            "                                                                                                  \n",
            " conv4_block4_add (Add)         (None, 16, 16, 1024  0           ['conv4_block3_out[0][0]',       \n",
            "                                )                                 'conv4_block4_3_bn[0][0]']      \n",
            "                                                                                                  \n",
            " conv4_block4_out (Activation)  (None, 16, 16, 1024  0           ['conv4_block4_add[0][0]']       \n",
            "                                )                                                                 \n",
            "                                                                                                  \n",
            " conv4_block5_1_conv (Conv2D)   (None, 16, 16, 256)  262400      ['conv4_block4_out[0][0]']       \n",
            "                                                                                                  \n",
            " conv4_block5_1_bn (BatchNormal  (None, 16, 16, 256)  1024       ['conv4_block5_1_conv[0][0]']    \n",
            " ization)                                                                                         \n",
            "                                                                                                  \n",
            " conv4_block5_1_relu (Activatio  (None, 16, 16, 256)  0          ['conv4_block5_1_bn[0][0]']      \n",
            " n)                                                                                               \n",
            "                                                                                                  \n",
            " conv4_block5_2_conv (Conv2D)   (None, 16, 16, 256)  590080      ['conv4_block5_1_relu[0][0]']    \n",
            "                                                                                                  \n",
            " conv4_block5_2_bn (BatchNormal  (None, 16, 16, 256)  1024       ['conv4_block5_2_conv[0][0]']    \n",
            " ization)                                                                                         \n",
            "                                                                                                  \n",
            " conv4_block5_2_relu (Activatio  (None, 16, 16, 256)  0          ['conv4_block5_2_bn[0][0]']      \n",
            " n)                                                                                               \n",
            "                                                                                                  \n",
            " conv4_block5_3_conv (Conv2D)   (None, 16, 16, 1024  263168      ['conv4_block5_2_relu[0][0]']    \n",
            "                                )                                                                 \n",
            "                                                                                                  \n",
            " conv4_block5_3_bn (BatchNormal  (None, 16, 16, 1024  4096       ['conv4_block5_3_conv[0][0]']    \n",
            " ization)                       )                                                                 \n",
            "                                                                                                  \n",
            " conv4_block5_add (Add)         (None, 16, 16, 1024  0           ['conv4_block4_out[0][0]',       \n",
            "                                )                                 'conv4_block5_3_bn[0][0]']      \n",
            "                                                                                                  \n",
            " conv4_block5_out (Activation)  (None, 16, 16, 1024  0           ['conv4_block5_add[0][0]']       \n",
            "                                )                                                                 \n",
            "                                                                                                  \n",
            " conv4_block6_1_conv (Conv2D)   (None, 16, 16, 256)  262400      ['conv4_block5_out[0][0]']       \n",
            "                                                                                                  \n",
            " conv4_block6_1_bn (BatchNormal  (None, 16, 16, 256)  1024       ['conv4_block6_1_conv[0][0]']    \n",
            " ization)                                                                                         \n",
            "                                                                                                  \n",
            " conv4_block6_1_relu (Activatio  (None, 16, 16, 256)  0          ['conv4_block6_1_bn[0][0]']      \n",
            " n)                                                                                               \n",
            "                                                                                                  \n",
            " conv4_block6_2_conv (Conv2D)   (None, 16, 16, 256)  590080      ['conv4_block6_1_relu[0][0]']    \n",
            "                                                                                                  \n",
            " conv4_block6_2_bn (BatchNormal  (None, 16, 16, 256)  1024       ['conv4_block6_2_conv[0][0]']    \n",
            " ization)                                                                                         \n",
            "                                                                                                  \n",
            " conv4_block6_2_relu (Activatio  (None, 16, 16, 256)  0          ['conv4_block6_2_bn[0][0]']      \n",
            " n)                                                                                               \n",
            "                                                                                                  \n",
            " conv4_block6_3_conv (Conv2D)   (None, 16, 16, 1024  263168      ['conv4_block6_2_relu[0][0]']    \n",
            "                                )                                                                 \n",
            "                                                                                                  \n",
            " conv4_block6_3_bn (BatchNormal  (None, 16, 16, 1024  4096       ['conv4_block6_3_conv[0][0]']    \n",
            " ization)                       )                                                                 \n",
            "                                                                                                  \n",
            " conv4_block6_add (Add)         (None, 16, 16, 1024  0           ['conv4_block5_out[0][0]',       \n",
            "                                )                                 'conv4_block6_3_bn[0][0]']      \n",
            "                                                                                                  \n",
            " conv4_block6_out (Activation)  (None, 16, 16, 1024  0           ['conv4_block6_add[0][0]']       \n",
            "                                )                                                                 \n",
            "                                                                                                  \n",
            " conv5_block1_1_conv (Conv2D)   (None, 8, 8, 512)    524800      ['conv4_block6_out[0][0]']       \n",
            "                                                                                                  \n",
            " conv5_block1_1_bn (BatchNormal  (None, 8, 8, 512)   2048        ['conv5_block1_1_conv[0][0]']    \n",
            " ization)                                                                                         \n",
            "                                                                                                  \n",
            " conv5_block1_1_relu (Activatio  (None, 8, 8, 512)   0           ['conv5_block1_1_bn[0][0]']      \n",
            " n)                                                                                               \n",
            "                                                                                                  \n",
            " conv5_block1_2_conv (Conv2D)   (None, 8, 8, 512)    2359808     ['conv5_block1_1_relu[0][0]']    \n",
            "                                                                                                  \n",
            " conv5_block1_2_bn (BatchNormal  (None, 8, 8, 512)   2048        ['conv5_block1_2_conv[0][0]']    \n",
            " ization)                                                                                         \n",
            "                                                                                                  \n",
            " conv5_block1_2_relu (Activatio  (None, 8, 8, 512)   0           ['conv5_block1_2_bn[0][0]']      \n",
            " n)                                                                                               \n",
            "                                                                                                  \n",
            " conv5_block1_0_conv (Conv2D)   (None, 8, 8, 2048)   2099200     ['conv4_block6_out[0][0]']       \n",
            "                                                                                                  \n",
            " conv5_block1_3_conv (Conv2D)   (None, 8, 8, 2048)   1050624     ['conv5_block1_2_relu[0][0]']    \n",
            "                                                                                                  \n",
            " conv5_block1_0_bn (BatchNormal  (None, 8, 8, 2048)  8192        ['conv5_block1_0_conv[0][0]']    \n",
            " ization)                                                                                         \n",
            "                                                                                                  \n",
            " conv5_block1_3_bn (BatchNormal  (None, 8, 8, 2048)  8192        ['conv5_block1_3_conv[0][0]']    \n",
            " ization)                                                                                         \n",
            "                                                                                                  \n",
            " conv5_block1_add (Add)         (None, 8, 8, 2048)   0           ['conv5_block1_0_bn[0][0]',      \n",
            "                                                                  'conv5_block1_3_bn[0][0]']      \n",
            "                                                                                                  \n",
            " conv5_block1_out (Activation)  (None, 8, 8, 2048)   0           ['conv5_block1_add[0][0]']       \n",
            "                                                                                                  \n",
            " conv5_block2_1_conv (Conv2D)   (None, 8, 8, 512)    1049088     ['conv5_block1_out[0][0]']       \n",
            "                                                                                                  \n",
            " conv5_block2_1_bn (BatchNormal  (None, 8, 8, 512)   2048        ['conv5_block2_1_conv[0][0]']    \n",
            " ization)                                                                                         \n",
            "                                                                                                  \n",
            " conv5_block2_1_relu (Activatio  (None, 8, 8, 512)   0           ['conv5_block2_1_bn[0][0]']      \n",
            " n)                                                                                               \n",
            "                                                                                                  \n",
            " conv5_block2_2_conv (Conv2D)   (None, 8, 8, 512)    2359808     ['conv5_block2_1_relu[0][0]']    \n",
            "                                                                                                  \n",
            " conv5_block2_2_bn (BatchNormal  (None, 8, 8, 512)   2048        ['conv5_block2_2_conv[0][0]']    \n",
            " ization)                                                                                         \n",
            "                                                                                                  \n",
            " conv5_block2_2_relu (Activatio  (None, 8, 8, 512)   0           ['conv5_block2_2_bn[0][0]']      \n",
            " n)                                                                                               \n",
            "                                                                                                  \n",
            " conv5_block2_3_conv (Conv2D)   (None, 8, 8, 2048)   1050624     ['conv5_block2_2_relu[0][0]']    \n",
            "                                                                                                  \n",
            " conv5_block2_3_bn (BatchNormal  (None, 8, 8, 2048)  8192        ['conv5_block2_3_conv[0][0]']    \n",
            " ization)                                                                                         \n",
            "                                                                                                  \n",
            " conv5_block2_add (Add)         (None, 8, 8, 2048)   0           ['conv5_block1_out[0][0]',       \n",
            "                                                                  'conv5_block2_3_bn[0][0]']      \n",
            "                                                                                                  \n",
            " conv5_block2_out (Activation)  (None, 8, 8, 2048)   0           ['conv5_block2_add[0][0]']       \n",
            "                                                                                                  \n",
            " conv5_block3_1_conv (Conv2D)   (None, 8, 8, 512)    1049088     ['conv5_block2_out[0][0]']       \n",
            "                                                                                                  \n",
            " conv5_block3_1_bn (BatchNormal  (None, 8, 8, 512)   2048        ['conv5_block3_1_conv[0][0]']    \n",
            " ization)                                                                                         \n",
            "                                                                                                  \n",
            " conv5_block3_1_relu (Activatio  (None, 8, 8, 512)   0           ['conv5_block3_1_bn[0][0]']      \n",
            " n)                                                                                               \n",
            "                                                                                                  \n",
            " conv5_block3_2_conv (Conv2D)   (None, 8, 8, 512)    2359808     ['conv5_block3_1_relu[0][0]']    \n",
            "                                                                                                  \n",
            " conv5_block3_2_bn (BatchNormal  (None, 8, 8, 512)   2048        ['conv5_block3_2_conv[0][0]']    \n",
            " ization)                                                                                         \n",
            "                                                                                                  \n",
            " conv5_block3_2_relu (Activatio  (None, 8, 8, 512)   0           ['conv5_block3_2_bn[0][0]']      \n",
            " n)                                                                                               \n",
            "                                                                                                  \n",
            " conv5_block3_3_conv (Conv2D)   (None, 8, 8, 2048)   1050624     ['conv5_block3_2_relu[0][0]']    \n",
            "                                                                                                  \n",
            " conv5_block3_3_bn (BatchNormal  (None, 8, 8, 2048)  8192        ['conv5_block3_3_conv[0][0]']    \n",
            " ization)                                                                                         \n",
            "                                                                                                  \n",
            " conv5_block3_add (Add)         (None, 8, 8, 2048)   0           ['conv5_block2_out[0][0]',       \n",
            "                                                                  'conv5_block3_3_bn[0][0]']      \n",
            "                                                                                                  \n",
            " conv5_block3_out (Activation)  (None, 8, 8, 2048)   0           ['conv5_block3_add[0][0]']       \n",
            "                                                                                                  \n",
            " flatten (Flatten)              (None, 131072)       0           ['conv5_block3_out[0][0]']       \n",
            "                                                                                                  \n",
            " dense (Dense)                  (None, 4)            524292      ['flatten[0][0]']                \n",
            "                                                                                                  \n",
            "==================================================================================================\n",
            "Total params: 24,112,004\n",
            "Trainable params: 524,292\n",
            "Non-trainable params: 23,587,712\n",
            "__________________________________________________________________________________________________\n"
          ]
        }
      ]
    },
    {
      "cell_type": "code",
      "source": [
        "# tell the model what cost and optimization method to use\n",
        "model.compile(\n",
        "  loss='categorical_crossentropy',\n",
        "  optimizer='adam',\n",
        "  metrics=['accuracy']\n",
        ")"
      ],
      "metadata": {
        "id": "A7DDlop_I_VK"
      },
      "execution_count": null,
      "outputs": []
    },
    {
      "cell_type": "code",
      "source": [
        "# Use the Image Data Generator to import the images from the dataset\n",
        "from tensorflow.keras.preprocessing.image import ImageDataGenerator\n",
        "\n",
        "train_datagen = ImageDataGenerator(rescale = 1./255,\n",
        "                                   shear_range = 0.2,\n",
        "                                   zoom_range = 0.2,\n",
        "                                   horizontal_flip = True)\n",
        "\n",
        "test_datagen = ImageDataGenerator(rescale = 1./255)"
      ],
      "metadata": {
        "id": "VvJJK7svJGwv"
      },
      "execution_count": null,
      "outputs": []
    },
    {
      "cell_type": "code",
      "source": [
        "# Make sure you provide the same target size as initialied for the image size\n",
        "training_set = train_datagen.flow_from_directory('/content/drive/MyDrive/Split/train',\n",
        "                                                 target_size = (250, 250),\n",
        "                                                 batch_size = 32,\n",
        "                                                 class_mode = 'categorical')"
      ],
      "metadata": {
        "colab": {
          "base_uri": "https://localhost:8080/"
        },
        "id": "DxbmCBTZJL0e",
        "outputId": "5535a44d-695d-487d-f99f-8f7e9d4b2c7b"
      },
      "execution_count": null,
      "outputs": [
        {
          "output_type": "stream",
          "name": "stdout",
          "text": [
            "Found 913 images belonging to 4 classes.\n"
          ]
        }
      ]
    },
    {
      "cell_type": "code",
      "source": [
        "test_set = test_datagen.flow_from_directory('/content/drive/MyDrive/Split/val',\n",
        "                                            target_size = (250, 250),\n",
        "                                            batch_size = 32,\n",
        "                                            class_mode = 'categorical')"
      ],
      "metadata": {
        "colab": {
          "base_uri": "https://localhost:8080/"
        },
        "id": "5Mion6wgJ6Ty",
        "outputId": "77d8726f-c099-48a9-8695-ce9450708820"
      },
      "execution_count": null,
      "outputs": [
        {
          "output_type": "stream",
          "name": "stdout",
          "text": [
            "Found 231 images belonging to 4 classes.\n"
          ]
        }
      ]
    },
    {
      "cell_type": "code",
      "source": [
        "# fit the model\n",
        "# Run the cell. It will take some time to execute\n",
        "r = model.fit_generator(\n",
        "  training_set,\n",
        "  validation_data=test_set,\n",
        "  epochs=50,\n",
        "  steps_per_epoch=len(training_set),\n",
        "  validation_steps=len(test_set)\n",
        ")"
      ],
      "metadata": {
        "colab": {
          "base_uri": "https://localhost:8080/"
        },
        "id": "vhL7gmRdKY-Q",
        "outputId": "99721e1f-b238-4b7c-9f58-f5bb21c6433e"
      },
      "execution_count": null,
      "outputs": [
        {
          "output_type": "stream",
          "name": "stderr",
          "text": [
            "/usr/local/lib/python3.7/dist-packages/ipykernel_launcher.py:8: UserWarning: `Model.fit_generator` is deprecated and will be removed in a future version. Please use `Model.fit`, which supports generators.\n",
            "  \n"
          ]
        },
        {
          "output_type": "stream",
          "name": "stdout",
          "text": [
            "Epoch 1/50\n",
            "29/29 [==============================] - 201s 7s/step - loss: 5.0079 - accuracy: 0.4392 - val_loss: 2.3038 - val_accuracy: 0.5065\n",
            "Epoch 2/50\n",
            "29/29 [==============================] - 30s 1s/step - loss: 1.6691 - accuracy: 0.6386 - val_loss: 1.3929 - val_accuracy: 0.6970\n",
            "Epoch 3/50\n",
            "29/29 [==============================] - 28s 976ms/step - loss: 0.9697 - accuracy: 0.6988 - val_loss: 1.4683 - val_accuracy: 0.5801\n",
            "Epoch 4/50\n",
            "29/29 [==============================] - 29s 1s/step - loss: 1.2660 - accuracy: 0.6572 - val_loss: 1.3663 - val_accuracy: 0.6061\n",
            "Epoch 5/50\n",
            "29/29 [==============================] - 28s 974ms/step - loss: 1.1113 - accuracy: 0.6999 - val_loss: 1.2638 - val_accuracy: 0.7403\n",
            "Epoch 6/50\n",
            "29/29 [==============================] - 29s 1s/step - loss: 0.9934 - accuracy: 0.7207 - val_loss: 1.3245 - val_accuracy: 0.7013\n",
            "Epoch 7/50\n",
            "29/29 [==============================] - 28s 977ms/step - loss: 1.1223 - accuracy: 0.6813 - val_loss: 1.2009 - val_accuracy: 0.7229\n",
            "Epoch 8/50\n",
            "29/29 [==============================] - 30s 1s/step - loss: 1.3911 - accuracy: 0.6857 - val_loss: 2.0346 - val_accuracy: 0.7013\n",
            "Epoch 9/50\n",
            "29/29 [==============================] - 29s 987ms/step - loss: 1.1097 - accuracy: 0.6944 - val_loss: 1.6681 - val_accuracy: 0.6277\n",
            "Epoch 10/50\n",
            "29/29 [==============================] - 30s 1s/step - loss: 0.9429 - accuracy: 0.7295 - val_loss: 1.7800 - val_accuracy: 0.7056\n",
            "Epoch 11/50\n",
            "29/29 [==============================] - 28s 978ms/step - loss: 1.1227 - accuracy: 0.6944 - val_loss: 0.9364 - val_accuracy: 0.7316\n",
            "Epoch 12/50\n",
            "29/29 [==============================] - 30s 1s/step - loss: 0.8028 - accuracy: 0.7404 - val_loss: 1.0222 - val_accuracy: 0.7576\n",
            "Epoch 13/50\n",
            "29/29 [==============================] - 28s 970ms/step - loss: 1.4110 - accuracy: 0.6736 - val_loss: 1.6080 - val_accuracy: 0.7403\n",
            "Epoch 14/50\n",
            "29/29 [==============================] - 29s 988ms/step - loss: 1.4032 - accuracy: 0.6835 - val_loss: 1.9568 - val_accuracy: 0.7273\n",
            "Epoch 15/50\n",
            "29/29 [==============================] - 31s 1s/step - loss: 1.3784 - accuracy: 0.7054 - val_loss: 1.3449 - val_accuracy: 0.6883\n",
            "Epoch 16/50\n",
            "29/29 [==============================] - 28s 984ms/step - loss: 0.9990 - accuracy: 0.7130 - val_loss: 1.1410 - val_accuracy: 0.7489\n",
            "Epoch 17/50\n",
            "29/29 [==============================] - 29s 1s/step - loss: 0.8459 - accuracy: 0.7558 - val_loss: 1.0369 - val_accuracy: 0.7186\n",
            "Epoch 18/50\n",
            "29/29 [==============================] - 29s 991ms/step - loss: 0.8243 - accuracy: 0.7645 - val_loss: 0.9737 - val_accuracy: 0.7446\n",
            "Epoch 19/50\n",
            "29/29 [==============================] - 30s 1s/step - loss: 0.7793 - accuracy: 0.7360 - val_loss: 1.7863 - val_accuracy: 0.6623\n",
            "Epoch 20/50\n",
            "29/29 [==============================] - 28s 978ms/step - loss: 1.0858 - accuracy: 0.7273 - val_loss: 1.2939 - val_accuracy: 0.7316\n",
            "Epoch 21/50\n",
            "29/29 [==============================] - 28s 981ms/step - loss: 0.8367 - accuracy: 0.7601 - val_loss: 1.2028 - val_accuracy: 0.7662\n",
            "Epoch 22/50\n",
            "29/29 [==============================] - 29s 986ms/step - loss: 1.0393 - accuracy: 0.7207 - val_loss: 1.1575 - val_accuracy: 0.7532\n",
            "Epoch 23/50\n",
            "29/29 [==============================] - 29s 1s/step - loss: 0.5864 - accuracy: 0.8007 - val_loss: 0.9257 - val_accuracy: 0.7619\n",
            "Epoch 24/50\n",
            "29/29 [==============================] - 29s 1s/step - loss: 0.5544 - accuracy: 0.8149 - val_loss: 1.5671 - val_accuracy: 0.6320\n",
            "Epoch 25/50\n",
            "29/29 [==============================] - 28s 978ms/step - loss: 0.7348 - accuracy: 0.7853 - val_loss: 1.2962 - val_accuracy: 0.6580\n",
            "Epoch 26/50\n",
            "29/29 [==============================] - 29s 1s/step - loss: 0.8995 - accuracy: 0.7317 - val_loss: 0.9988 - val_accuracy: 0.7706\n",
            "Epoch 27/50\n",
            "29/29 [==============================] - 28s 974ms/step - loss: 0.9032 - accuracy: 0.7404 - val_loss: 1.3173 - val_accuracy: 0.7532\n",
            "Epoch 28/50\n",
            "29/29 [==============================] - 30s 1s/step - loss: 1.0372 - accuracy: 0.7130 - val_loss: 1.9519 - val_accuracy: 0.7229\n",
            "Epoch 29/50\n",
            "29/29 [==============================] - 29s 996ms/step - loss: 0.8980 - accuracy: 0.7700 - val_loss: 1.0673 - val_accuracy: 0.7749\n",
            "Epoch 30/50\n",
            "29/29 [==============================] - 29s 983ms/step - loss: 0.5245 - accuracy: 0.8291 - val_loss: 1.5774 - val_accuracy: 0.6320\n",
            "Epoch 31/50\n",
            "29/29 [==============================] - 31s 1s/step - loss: 0.8664 - accuracy: 0.7579 - val_loss: 0.8790 - val_accuracy: 0.7706\n",
            "Epoch 32/50\n",
            "29/29 [==============================] - 29s 988ms/step - loss: 0.7067 - accuracy: 0.7864 - val_loss: 1.3600 - val_accuracy: 0.7143\n",
            "Epoch 33/50\n",
            "29/29 [==============================] - 28s 978ms/step - loss: 0.9118 - accuracy: 0.7634 - val_loss: 1.9950 - val_accuracy: 0.7489\n",
            "Epoch 34/50\n",
            "29/29 [==============================] - 29s 1s/step - loss: 1.1076 - accuracy: 0.7831 - val_loss: 1.2868 - val_accuracy: 0.7576\n",
            "Epoch 35/50\n",
            "29/29 [==============================] - 28s 982ms/step - loss: 0.6766 - accuracy: 0.7908 - val_loss: 1.4360 - val_accuracy: 0.7403\n",
            "Epoch 36/50\n",
            "29/29 [==============================] - 30s 1s/step - loss: 0.5651 - accuracy: 0.8226 - val_loss: 1.2622 - val_accuracy: 0.6797\n",
            "Epoch 37/50\n",
            "29/29 [==============================] - 28s 977ms/step - loss: 0.7636 - accuracy: 0.7678 - val_loss: 0.9999 - val_accuracy: 0.7359\n",
            "Epoch 38/50\n",
            "29/29 [==============================] - 30s 1s/step - loss: 0.6192 - accuracy: 0.8138 - val_loss: 1.3089 - val_accuracy: 0.7749\n",
            "Epoch 39/50\n",
            "29/29 [==============================] - 29s 1s/step - loss: 0.7585 - accuracy: 0.8160 - val_loss: 1.1946 - val_accuracy: 0.7143\n",
            "Epoch 40/50\n",
            "29/29 [==============================] - 30s 1s/step - loss: 0.9893 - accuracy: 0.7667 - val_loss: 1.6674 - val_accuracy: 0.7056\n",
            "Epoch 41/50\n",
            "29/29 [==============================] - 29s 983ms/step - loss: 1.0396 - accuracy: 0.7284 - val_loss: 1.5520 - val_accuracy: 0.6580\n",
            "Epoch 42/50\n",
            "29/29 [==============================] - 30s 1s/step - loss: 1.4662 - accuracy: 0.7338 - val_loss: 3.2883 - val_accuracy: 0.7100\n",
            "Epoch 43/50\n",
            "29/29 [==============================] - 28s 970ms/step - loss: 1.7167 - accuracy: 0.7295 - val_loss: 1.1854 - val_accuracy: 0.7186\n",
            "Epoch 44/50\n",
            "29/29 [==============================] - 29s 1s/step - loss: 0.8170 - accuracy: 0.8072 - val_loss: 1.6463 - val_accuracy: 0.6797\n",
            "Epoch 45/50\n",
            "29/29 [==============================] - 28s 969ms/step - loss: 0.7940 - accuracy: 0.7842 - val_loss: 2.6181 - val_accuracy: 0.6450\n",
            "Epoch 46/50\n",
            "29/29 [==============================] - 29s 1s/step - loss: 0.8337 - accuracy: 0.7788 - val_loss: 1.3813 - val_accuracy: 0.7273\n",
            "Epoch 47/50\n",
            "29/29 [==============================] - 29s 1s/step - loss: 0.6600 - accuracy: 0.8061 - val_loss: 1.4200 - val_accuracy: 0.7576\n",
            "Epoch 48/50\n",
            "29/29 [==============================] - 31s 1s/step - loss: 0.7499 - accuracy: 0.7952 - val_loss: 1.6071 - val_accuracy: 0.7316\n",
            "Epoch 49/50\n",
            "29/29 [==============================] - 28s 977ms/step - loss: 1.0092 - accuracy: 0.7667 - val_loss: 1.2134 - val_accuracy: 0.7229\n",
            "Epoch 50/50\n",
            "29/29 [==============================] - 30s 1s/step - loss: 0.8601 - accuracy: 0.7634 - val_loss: 1.5049 - val_accuracy: 0.7792\n"
          ]
        }
      ]
    },
    {
      "cell_type": "code",
      "source": [
        "# plot the loss\n",
        "plt.plot(r.history['loss'], label='train loss')\n",
        "plt.plot(r.history['val_loss'], label='val loss')\n",
        "plt.legend()\n",
        "plt.show()\n",
        "plt.savefig('LossVal_loss')\n",
        "\n",
        "# plot the accuracy\n",
        "plt.plot(r.history['accuracy'], label='train acc')\n",
        "plt.plot(r.history['val_accuracy'], label='val acc')\n",
        "plt.legend()\n",
        "plt.show()\n",
        "plt.savefig('AccVal_acc')"
      ],
      "metadata": {
        "colab": {
          "base_uri": "https://localhost:8080/",
          "height": 530
        },
        "id": "QW7K6KfBEeHh",
        "outputId": "9ea74026-24dc-4b48-8d7d-5b91627bae75"
      },
      "execution_count": null,
      "outputs": [
        {
          "output_type": "display_data",
          "data": {
            "text/plain": [
              "<Figure size 432x288 with 1 Axes>"
            ],
            "image/png": "[encoded data removed]"
          },
          "metadata": {
            "needs_background": "light"
          }
        },
        {
          "output_type": "display_data",
          "data": {
            "text/plain": [
              "<Figure size 432x288 with 1 Axes>"
            ],
            "image/png": "[encoded data removed]"
          },
          "metadata": {
            "needs_background": "light"
          }
        },
        {
          "output_type": "display_data",
          "data": {
            "text/plain": [
              "<Figure size 432x288 with 0 Axes>"
            ]
          },
          "metadata": {}
        }
      ]
    },
    {
      "cell_type": "code",
      "source": [
        "# save it as a h5 file\n",
        "\n",
        "\n",
        "from tensorflow.keras.models import load_model\n",
        "\n",
        "model.save('model_resnet50.h5')"
      ],
      "metadata": {
        "id": "4mAL1_ddEoGj"
      },
      "execution_count": null,
      "outputs": []
    },
    {
      "cell_type": "code",
      "source": [
        "y_pred = model.predict(test_set)"
      ],
      "metadata": {
        "colab": {
          "base_uri": "https://localhost:8080/"
        },
        "id": "ml3CfhoXEu19",
        "outputId": "561c6956-2855-49e2-9a77-617166a50e83"
      },
      "execution_count": null,
      "outputs": [
        {
          "output_type": "stream",
          "name": "stdout",
          "text": [
            "8/8 [==============================] - 6s 645ms/step\n"
          ]
        }
      ]
    },
    {
      "cell_type": "code",
      "source": [
        "y_pred"
      ],
      "metadata": {
        "colab": {
          "base_uri": "https://localhost:8080/"
        },
        "id": "jp6ltT4hE0Cu",
        "outputId": "ccbd0d43-9662-457b-9273-e87b9a84401a"
      },
      "execution_count": null,
      "outputs": [
        {
          "output_type": "execute_result",
          "data": {
            "text/plain": [
              "array([[9.99980688e-01, 1.91188828e-05, 2.05562145e-07, 1.11453416e-11],\n",
              "       [6.52807346e-03, 9.93338466e-01, 1.33401612e-04, 1.62064928e-09],\n",
              "       [2.36372203e-01, 1.03109800e-04, 7.63522565e-01, 2.06321783e-06],\n",
              "       [9.99987483e-01, 1.15277708e-05, 1.00423915e-06, 7.36326070e-11],\n",
              "       [9.99873996e-01, 1.25891369e-04, 1.49313664e-07, 1.63179609e-11],\n",
              "       [3.74634610e-03, 9.95866656e-01, 3.86989122e-04, 1.82550544e-08],\n",
              "       [9.83502209e-01, 6.03801338e-04, 1.58939213e-02, 6.97333178e-08],\n",
              "       [6.94905281e-01, 2.66996235e-01, 3.80984247e-02, 5.54885702e-08],\n",
              "       [1.18332059e-12, 2.47944385e-01, 7.52055585e-01, 6.51611404e-12],\n",
              "       [7.98352957e-01, 1.47889936e-04, 2.01498643e-01, 5.25163330e-07],\n",
              "       [9.97497022e-01, 2.46727187e-03, 3.56378769e-05, 9.04865849e-10],\n",
              "       [8.93259108e-01, 1.06073238e-01, 6.66726206e-04, 9.19953436e-07],\n",
              "       [6.58299625e-01, 3.05558473e-01, 3.61410379e-02, 8.08415166e-07],\n",
              "       [8.63047353e-06, 9.99954700e-01, 3.67397151e-05, 2.14126258e-10],\n",
              "       [9.99990344e-01, 7.74228101e-06, 1.88903687e-06, 7.58970317e-11],\n",
              "       [2.19848834e-10, 1.00000000e+00, 6.13605211e-09, 3.50624656e-17],\n",
              "       [1.35623804e-06, 5.65412192e-05, 9.99882460e-01, 5.95730089e-05],\n",
              "       [5.79275774e-16, 9.99998093e-01, 1.87082208e-06, 1.96196683e-13],\n",
              "       [9.39497650e-01, 2.59334594e-02, 3.45687605e-02, 1.37772190e-07],\n",
              "       [2.24850560e-03, 9.97575700e-01, 1.75740905e-04, 1.67037506e-09],\n",
              "       [9.38921154e-01, 5.91084324e-02, 1.97037845e-03, 3.92328978e-08],\n",
              "       [9.37605023e-01, 9.04340850e-05, 6.23043217e-02, 1.83667893e-07],\n",
              "       [6.56046940e-14, 1.00000000e+00, 3.28381731e-08, 5.69250557e-16],\n",
              "       [1.34164336e-04, 9.99704063e-01, 1.61675736e-04, 1.83340843e-10],\n",
              "       [9.78256296e-03, 9.90005791e-01, 2.11628023e-04, 1.33943914e-08],\n",
              "       [4.46801248e-04, 9.94805753e-01, 4.74738516e-03, 1.82453821e-08],\n",
              "       [1.94659874e-01, 2.30323285e-01, 5.74981511e-01, 3.53197865e-05],\n",
              "       [6.51938899e-05, 9.91572887e-02, 9.00777280e-01, 2.51016615e-07],\n",
              "       [9.99524593e-01, 3.69788795e-05, 4.38456133e-04, 1.60537788e-08],\n",
              "       [1.15777711e-12, 9.80982602e-01, 1.90174226e-02, 7.33773042e-11],\n",
              "       [9.99470890e-01, 4.31712688e-04, 9.74559880e-05, 8.01383404e-09],\n",
              "       [1.37228217e-05, 5.36170244e-01, 4.63815838e-01, 1.59623028e-07],\n",
              "       [1.42744377e-01, 4.09908965e-02, 8.16255033e-01, 9.74331851e-06],\n",
              "       [1.79552680e-05, 9.99971986e-01, 9.96503240e-06, 7.31447750e-11],\n",
              "       [2.30143708e-03, 9.97503698e-01, 1.94941269e-04, 5.94596428e-10],\n",
              "       [4.45791875e-06, 3.23846890e-03, 9.96756971e-01, 8.94029526e-08],\n",
              "       [6.52915601e-13, 9.99928117e-01, 7.18299125e-05, 1.94898724e-14],\n",
              "       [9.99986649e-01, 6.46740091e-06, 6.91133255e-06, 4.16148310e-10],\n",
              "       [8.87908861e-02, 3.37464541e-01, 5.73744416e-01, 2.28569746e-07],\n",
              "       [1.92208721e-10, 2.47085094e-01, 7.52913654e-01, 1.22661220e-06],\n",
              "       [4.97686851e-04, 2.51186043e-01, 7.48309851e-01, 6.44026977e-06],\n",
              "       [1.49410153e-05, 9.99865770e-01, 1.19313394e-04, 3.17124160e-10],\n",
              "       [1.22879565e-01, 8.77057910e-01, 6.25459579e-05, 1.43545420e-09],\n",
              "       [1.45241154e-12, 9.98779595e-01, 1.22036738e-03, 1.78608788e-12],\n",
              "       [1.49587152e-08, 9.99556720e-01, 4.43266646e-04, 4.11067144e-12],\n",
              "       [7.02454767e-04, 1.43233319e-06, 9.99295950e-01, 1.08993547e-07],\n",
              "       [1.50739176e-13, 6.97565881e-08, 9.99988914e-01, 1.10141682e-05],\n",
              "       [1.52754424e-07, 1.92890607e-03, 9.98070538e-01, 4.77883418e-07],\n",
              "       [9.99871850e-01, 4.49877043e-05, 8.32163933e-05, 4.04745881e-09],\n",
              "       [4.23459232e-01, 5.76464355e-01, 7.63962817e-05, 7.85092991e-10],\n",
              "       [1.70405512e-03, 7.94977229e-03, 9.90346014e-01, 1.28947164e-07],\n",
              "       [9.35403030e-19, 9.99942780e-01, 5.71869896e-05, 4.83755987e-11],\n",
              "       [1.90834215e-15, 4.03556712e-02, 9.59644318e-01, 1.44053573e-12],\n",
              "       [1.84964756e-06, 3.36994795e-04, 9.99634147e-01, 2.70544570e-05],\n",
              "       [9.55152512e-01, 4.10126224e-02, 3.83480801e-03, 6.20824503e-09],\n",
              "       [3.81815424e-09, 9.99866843e-01, 1.33114270e-04, 1.51729011e-11],\n",
              "       [2.66106217e-11, 1.84376347e-07, 9.99999762e-01, 1.48835602e-08],\n",
              "       [9.99113142e-01, 8.79021187e-04, 7.82161351e-06, 1.90038829e-09],\n",
              "       [4.24300274e-03, 4.37570393e-01, 5.58179259e-01, 7.39562756e-06],\n",
              "       [9.99204457e-01, 9.92376372e-05, 6.96293253e-04, 2.63892677e-08],\n",
              "       [1.79674737e-02, 9.81728256e-01, 3.04258516e-04, 4.61802685e-08],\n",
              "       [1.51413393e-09, 9.99999881e-01, 1.29799346e-07, 9.86830382e-14],\n",
              "       [3.20375338e-03, 9.96176243e-01, 6.20011881e-04, 1.35777745e-09],\n",
              "       [9.72118112e-04, 9.35474418e-06, 9.99018192e-01, 3.52379601e-07],\n",
              "       [2.39077653e-03, 9.97559190e-01, 5.00064780e-05, 5.22666022e-10],\n",
              "       [2.14261373e-10, 5.24877429e-01, 4.75122482e-01, 8.53153921e-08],\n",
              "       [5.39479544e-03, 9.72071290e-01, 2.25339048e-02, 4.10112655e-09],\n",
              "       [9.96448994e-01, 8.72595177e-04, 2.67836591e-03, 1.82744397e-08],\n",
              "       [2.48300526e-02, 5.20646453e-01, 4.54523206e-01, 2.86509703e-07],\n",
              "       [9.96397734e-01, 3.02835391e-03, 5.73772297e-04, 2.51023273e-08],\n",
              "       [1.96397675e-15, 9.82255816e-01, 1.77441183e-02, 1.96748946e-08],\n",
              "       [1.16146852e-08, 3.03469032e-01, 6.96530163e-01, 7.51875518e-07],\n",
              "       [7.66823162e-15, 1.03425882e-04, 9.99896526e-01, 5.44572636e-08],\n",
              "       [1.74071509e-02, 9.50363874e-01, 3.22289504e-02, 5.43208039e-08],\n",
              "       [5.71050343e-15, 9.99902248e-01, 9.77106538e-05, 2.25929871e-13],\n",
              "       [1.10099727e-05, 9.99976039e-01, 1.30203398e-05, 4.29769727e-11],\n",
              "       [9.99810994e-01, 1.84219156e-04, 4.79303571e-06, 2.45833187e-10],\n",
              "       [9.80163515e-01, 1.87931044e-04, 1.96484774e-02, 8.80824658e-08],\n",
              "       [9.44647312e-01, 1.61343836e-03, 5.37387989e-02, 3.60136710e-07],\n",
              "       [4.89654575e-08, 9.23305511e-01, 7.66944662e-02, 2.80721988e-08],\n",
              "       [2.01174966e-03, 9.97766376e-01, 2.21833703e-04, 7.04104020e-09],\n",
              "       [8.12846780e-01, 1.86754629e-01, 3.98582983e-04, 1.80688033e-08],\n",
              "       [9.97113893e-05, 9.93913591e-01, 5.98659553e-03, 1.54248347e-08],\n",
              "       [6.90935726e-21, 9.99999285e-01, 6.75482397e-07, 3.32918770e-21],\n",
              "       [1.54756249e-10, 9.98586416e-01, 1.41357491e-03, 2.45211074e-10],\n",
              "       [2.27215700e-03, 9.92913663e-01, 4.81428718e-03, 6.02629990e-09],\n",
              "       [7.20999420e-01, 2.69947082e-01, 9.05247871e-03, 1.08761890e-06],\n",
              "       [1.35347219e-02, 9.86392021e-01, 7.32504268e-05, 2.49263969e-08],\n",
              "       [9.84430850e-01, 7.75528955e-04, 1.47935254e-02, 1.05204705e-07],\n",
              "       [9.99802887e-01, 1.97019806e-04, 7.21474365e-08, 4.69154490e-12],\n",
              "       [4.35738116e-13, 6.41047955e-05, 9.99934912e-01, 9.11870814e-07],\n",
              "       [8.84410858e-01, 1.15549468e-01, 3.95900897e-05, 1.13152532e-09],\n",
              "       [2.03302236e-11, 9.99963045e-01, 3.69449335e-05, 1.56571197e-11],\n",
              "       [1.05176741e-25, 9.99997139e-01, 2.83124336e-06, 3.70249245e-16],\n",
              "       [4.99896735e-01, 4.86688495e-01, 1.34147611e-02, 5.00803488e-08],\n",
              "       [6.22738060e-03, 9.91288006e-01, 2.48462358e-03, 7.08738712e-09],\n",
              "       [1.98253948e-11, 9.99998927e-01, 1.07740573e-06, 3.87446380e-15],\n",
              "       [3.77743600e-05, 9.95804012e-01, 4.15821699e-03, 6.73437395e-09],\n",
              "       [4.28269625e-16, 6.82918653e-02, 9.31694686e-01, 1.34783359e-05],\n",
              "       [9.99976277e-01, 2.31529502e-05, 6.02639318e-07, 1.50233187e-10],\n",
              "       [3.20150563e-13, 2.52513328e-05, 9.99818981e-01, 1.55810456e-04],\n",
              "       [3.70890950e-03, 9.96255159e-01, 3.58842044e-05, 2.69787193e-09],\n",
              "       [2.64036987e-10, 9.99999762e-01, 2.90064150e-07, 4.00384444e-14],\n",
              "       [3.35420680e-07, 9.32098700e-08, 9.99999523e-01, 8.35441405e-09],\n",
              "       [7.22783036e-04, 9.99076605e-01, 2.00544280e-04, 8.74029515e-10],\n",
              "       [1.50269208e-09, 7.98317767e-09, 1.00000000e+00, 7.95806177e-09],\n",
              "       [6.26820247e-06, 9.97055173e-01, 2.93846847e-03, 9.73936309e-08],\n",
              "       [1.48302720e-18, 9.99639630e-01, 3.60321283e-04, 7.92332172e-12],\n",
              "       [9.29290414e-01, 6.90268353e-02, 1.68230780e-03, 4.50757881e-07],\n",
              "       [3.68157655e-01, 6.29955530e-01, 1.88681751e-03, 1.90273770e-08],\n",
              "       [1.52049381e-07, 1.23730861e-05, 9.99987483e-01, 1.27084476e-08],\n",
              "       [9.93356228e-01, 6.61358843e-03, 3.01578893e-05, 5.07735798e-10],\n",
              "       [9.99400735e-01, 3.78370823e-05, 5.61407243e-04, 1.54109969e-08],\n",
              "       [2.09312905e-02, 9.78711545e-01, 3.57110170e-04, 4.62839855e-09],\n",
              "       [1.12166804e-11, 9.99780834e-01, 2.19172915e-04, 3.07082033e-11],\n",
              "       [1.17220047e-12, 2.28640456e-02, 9.77136016e-01, 2.03160336e-11],\n",
              "       [1.00073148e-03, 8.50252032e-01, 1.48747265e-01, 4.51845361e-09],\n",
              "       [9.83214378e-01, 4.77768062e-03, 1.20078130e-02, 1.77633865e-07],\n",
              "       [1.60428099e-04, 9.96224403e-01, 3.61520471e-03, 8.88347104e-11],\n",
              "       [1.38690590e-03, 5.41255951e-01, 4.57349867e-01, 7.28780196e-06],\n",
              "       [8.95530403e-01, 1.00521348e-01, 3.94823868e-03, 2.58735646e-08],\n",
              "       [6.63077633e-04, 6.32637441e-01, 3.66699457e-01, 5.92306959e-09],\n",
              "       [2.32213107e-03, 9.96863008e-01, 8.14867963e-04, 3.53433172e-09],\n",
              "       [6.74772949e-08, 3.04230944e-05, 9.99969482e-01, 2.70503531e-08],\n",
              "       [1.39430519e-02, 9.57748741e-02, 8.90282094e-01, 6.08738171e-09],\n",
              "       [9.99879718e-01, 1.19837568e-04, 4.41461935e-07, 2.97744780e-11],\n",
              "       [1.34287728e-08, 9.99929070e-01, 7.09070664e-05, 9.05431674e-10],\n",
              "       [4.68250398e-08, 1.90836392e-04, 9.99796450e-01, 1.26558871e-05],\n",
              "       [1.38261003e-05, 3.93007845e-01, 6.06977344e-01, 9.68914264e-07],\n",
              "       [3.51698436e-05, 2.70934496e-02, 9.72868919e-01, 2.46888681e-06],\n",
              "       [9.32236493e-01, 1.51462364e-03, 6.62479326e-02, 9.29635860e-07],\n",
              "       [3.25322019e-10, 9.99997377e-01, 2.57549846e-06, 2.68092132e-17],\n",
              "       [7.74456348e-05, 9.99536157e-01, 3.86445754e-04, 5.22842747e-09],\n",
              "       [8.43507209e-12, 1.00000000e+00, 8.72063421e-10, 6.71480240e-18],\n",
              "       [7.08814951e-12, 8.65458488e-01, 1.31328061e-01, 3.21347290e-03],\n",
              "       [8.87105241e-03, 9.87616956e-01, 3.51192849e-03, 9.12566744e-10],\n",
              "       [2.02853456e-02, 9.08658504e-01, 7.10560679e-02, 1.22346762e-07],\n",
              "       [1.32264406e-15, 8.42300185e-04, 9.99157548e-01, 7.75661348e-08],\n",
              "       [1.49698338e-24, 9.99998927e-01, 1.11614634e-06, 1.74227192e-15],\n",
              "       [3.73919308e-02, 9.62564468e-01, 4.36109731e-05, 2.91550006e-09],\n",
              "       [2.82842749e-33, 1.00000000e+00, 6.92037053e-11, 7.38361426e-16],\n",
              "       [1.94893390e-11, 2.48389249e-03, 9.97516155e-01, 3.74609854e-08],\n",
              "       [3.92338187e-02, 2.63064623e-01, 6.97699964e-01, 1.60391949e-06],\n",
              "       [9.99962568e-01, 1.55314356e-05, 2.19496324e-05, 5.16330145e-10],\n",
              "       [1.01193075e-06, 9.99989986e-01, 9.10391282e-06, 4.43970249e-10],\n",
              "       [1.74290547e-11, 2.45090725e-10, 1.00000000e+00, 8.09570799e-10],\n",
              "       [2.47245724e-03, 9.96477306e-01, 1.05016411e-03, 1.73305470e-09],\n",
              "       [7.30338012e-11, 8.80472269e-03, 9.91195202e-01, 1.52992627e-07],\n",
              "       [4.36411658e-03, 9.95269597e-01, 3.66134132e-04, 1.01853203e-07],\n",
              "       [1.46666844e-05, 9.99878287e-01, 1.07026026e-04, 6.44474529e-10],\n",
              "       [9.99993086e-01, 6.74609419e-06, 6.04348642e-08, 9.68518343e-13],\n",
              "       [1.12934932e-01, 1.80574856e-03, 8.85259151e-01, 8.18657711e-08],\n",
              "       [1.78730284e-12, 9.99981523e-01, 1.85047465e-05, 2.03191064e-09],\n",
              "       [5.73725007e-24, 9.99998212e-01, 1.77857123e-06, 3.72105437e-11],\n",
              "       [9.98306036e-01, 1.69368356e-03, 2.80962752e-07, 1.76449723e-11],\n",
              "       [1.63053395e-04, 9.99836802e-01, 9.36003346e-08, 2.88090524e-11],\n",
              "       [0.00000000e+00, 1.00000000e+00, 3.14304095e-12, 1.77297169e-18],\n",
              "       [8.76564085e-01, 1.22895911e-01, 5.40024834e-04, 2.92120266e-08],\n",
              "       [9.58161309e-07, 9.99939799e-01, 5.92228862e-05, 1.82530491e-10],\n",
              "       [9.91926372e-01, 7.13164965e-03, 9.41982551e-04, 1.18311574e-08],\n",
              "       [1.01510036e-16, 9.99588192e-01, 4.11789573e-04, 3.01454798e-13],\n",
              "       [9.92298782e-01, 2.94787064e-03, 4.75342060e-03, 2.27949695e-08],\n",
              "       [1.95821116e-07, 9.99927282e-01, 7.24180791e-05, 8.84087248e-12],\n",
              "       [9.99995589e-01, 1.94615109e-06, 2.56229623e-06, 1.37821005e-10],\n",
              "       [2.23438255e-03, 7.88046233e-03, 9.89885211e-01, 4.77744280e-08],\n",
              "       [1.31226967e-08, 3.26915197e-02, 9.67308342e-01, 6.93591815e-08],\n",
              "       [5.06087902e-13, 9.99999166e-01, 7.83346081e-07, 5.78227730e-16],\n",
              "       [1.24082163e-07, 9.97492075e-01, 2.50781537e-03, 4.77780704e-10],\n",
              "       [3.23246029e-04, 1.19340344e-04, 9.99556720e-01, 7.01193756e-07],\n",
              "       [1.68211818e-01, 7.69906938e-01, 6.18811958e-02, 4.19196873e-08],\n",
              "       [1.44594711e-10, 9.98792410e-01, 1.20753946e-03, 1.43410367e-10],\n",
              "       [2.73178859e-13, 9.99809563e-01, 1.90469800e-04, 8.45339465e-10],\n",
              "       [6.07839584e-01, 3.91909182e-01, 2.51263904e-04, 5.09466069e-08],\n",
              "       [9.92606044e-01, 2.03695337e-04, 7.19027361e-03, 1.61391114e-08],\n",
              "       [1.00880913e-01, 8.51147473e-01, 4.79694791e-02, 2.09209088e-06],\n",
              "       [9.99961734e-01, 3.58702782e-05, 2.40547456e-06, 8.96712704e-11],\n",
              "       [1.53669388e-09, 3.19509419e-09, 1.00000000e+00, 6.75948764e-09],\n",
              "       [4.51502353e-02, 2.33033616e-02, 9.31543946e-01, 2.49492405e-06],\n",
              "       [2.05421704e-04, 5.77643284e-08, 9.99794543e-01, 2.91098967e-08],\n",
              "       [6.37412965e-01, 3.61973971e-01, 6.12987846e-04, 3.60104444e-08],\n",
              "       [4.82286006e-01, 4.55134988e-01, 6.25788122e-02, 1.80778429e-07],\n",
              "       [1.64298211e-08, 9.89913464e-01, 1.00864759e-02, 7.75871867e-10],\n",
              "       [9.99491811e-01, 1.73851022e-05, 4.90699138e-04, 2.10020232e-08],\n",
              "       [9.89820719e-01, 5.68152813e-04, 9.61111579e-03, 8.95574992e-09],\n",
              "       [8.25670287e-02, 9.17427123e-01, 5.75168542e-06, 2.64710764e-09],\n",
              "       [9.62618947e-01, 3.68266664e-02, 5.54349448e-04, 2.19244303e-08],\n",
              "       [7.44777651e-07, 9.98770297e-01, 1.22901052e-03, 1.53073476e-09],\n",
              "       [9.99992728e-01, 7.29336034e-06, 1.44425272e-08, 1.05275305e-12],\n",
              "       [2.04559878e-01, 7.94464588e-01, 9.75512026e-04, 7.48108864e-09],\n",
              "       [8.44577717e-13, 9.98960957e-02, 9.00103867e-01, 1.05437950e-11],\n",
              "       [4.12061019e-03, 1.48663148e-05, 9.95864391e-01, 1.55825120e-07],\n",
              "       [1.62526329e-12, 5.24539292e-01, 4.75460708e-01, 1.10553111e-09],\n",
              "       [9.99247551e-01, 7.36230286e-04, 1.62437427e-05, 6.03398942e-10],\n",
              "       [8.21744419e-13, 3.12515236e-10, 9.99999881e-01, 7.00975988e-08],\n",
              "       [5.91028729e-05, 9.99933004e-01, 7.83215364e-06, 1.20305987e-10],\n",
              "       [9.99257028e-01, 3.75969903e-05, 7.05350132e-04, 3.21980576e-09],\n",
              "       [9.97562408e-01, 2.43665511e-03, 8.96564984e-07, 1.00556931e-10],\n",
              "       [9.87465560e-01, 1.25156939e-02, 1.86761899e-05, 3.37350037e-09],\n",
              "       [8.56143713e-01, 1.42639190e-01, 1.21703849e-03, 4.98707253e-09],\n",
              "       [1.92186604e-07, 3.99692580e-02, 9.60030019e-01, 6.28273142e-07],\n",
              "       [7.22881805e-06, 9.86175358e-01, 1.38174174e-02, 2.09221918e-10],\n",
              "       [9.69116986e-01, 3.05936430e-02, 2.89410411e-04, 2.29554487e-09],\n",
              "       [4.44748309e-08, 9.99998450e-01, 1.52511495e-06, 1.78791964e-12],\n",
              "       [4.16512108e-07, 9.99119818e-01, 8.79850704e-04, 2.31685199e-10],\n",
              "       [9.82571185e-01, 1.74270310e-02, 1.76915080e-06, 1.31923000e-10],\n",
              "       [2.88247014e-24, 9.99997377e-01, 2.61882224e-06, 1.15125509e-12],\n",
              "       [4.45456681e-05, 9.99836564e-01, 1.18803175e-04, 1.05530007e-09],\n",
              "       [1.70027795e-06, 9.98796821e-01, 1.20150240e-03, 3.02049691e-10],\n",
              "       [6.41486511e-14, 9.99999642e-01, 3.12630675e-07, 4.72987995e-18],\n",
              "       [1.40021458e-01, 1.41124753e-03, 8.58566880e-01, 4.14495673e-07],\n",
              "       [1.30515051e-04, 9.99830365e-01, 3.90408677e-05, 2.35562281e-09],\n",
              "       [9.99814808e-01, 1.83621712e-04, 1.50575249e-06, 2.74717943e-10],\n",
              "       [8.53249371e-01, 6.03339940e-05, 1.46689937e-01, 3.04575593e-07],\n",
              "       [9.38605070e-01, 5.74481301e-02, 3.94677278e-03, 6.21884837e-08],\n",
              "       [9.24648986e-12, 9.99980211e-01, 1.98427515e-05, 8.10604188e-13],\n",
              "       [1.15355087e-05, 4.65905182e-02, 9.53372002e-01, 2.59679709e-05],\n",
              "       [5.75777233e-01, 3.36649567e-01, 8.75712186e-02, 1.92904872e-06],\n",
              "       [2.62355285e-12, 9.99729931e-01, 2.70099059e-04, 3.18339288e-09],\n",
              "       [1.83475320e-15, 3.43552139e-03, 9.96564448e-01, 1.87614213e-09],\n",
              "       [9.99781430e-01, 1.97095258e-04, 2.14882111e-05, 1.29533509e-10],\n",
              "       [1.04178966e-11, 1.97043646e-05, 9.99979615e-01, 7.06916694e-07],\n",
              "       [9.96893568e-10, 9.98664260e-01, 1.33569085e-03, 3.38034767e-10],\n",
              "       [3.34337351e-15, 1.27798489e-06, 9.99998689e-01, 4.59771153e-12],\n",
              "       [3.94494541e-11, 5.02469038e-06, 9.99992728e-01, 2.21897403e-06],\n",
              "       [9.11529696e-06, 9.65370715e-01, 3.46195884e-02, 5.67557493e-07],\n",
              "       [4.77139439e-09, 9.99975204e-01, 2.47680728e-05, 1.68717189e-12],\n",
              "       [1.18271387e-13, 9.99998331e-01, 1.66022221e-06, 3.07989006e-14],\n",
              "       [9.92217302e-01, 7.78257474e-03, 9.65430189e-08, 9.51339077e-11],\n",
              "       [5.99618761e-06, 5.42357622e-04, 9.99450624e-01, 1.05897868e-06],\n",
              "       [1.69842824e-01, 3.34764736e-05, 8.30123067e-01, 5.71964620e-07],\n",
              "       [7.87860415e-07, 1.38120740e-05, 9.99985456e-01, 3.23049285e-08]],\n",
              "      dtype=float32)"
            ]
          },
          "metadata": {},
          "execution_count": 17
        }
      ]
    },
    {
      "cell_type": "code",
      "source": [
        "import numpy as np\n",
        "y_pred = np.argmax(y_pred, axis=1)"
      ],
      "metadata": {
        "id": "LN_4BIoME5d8"
      },
      "execution_count": null,
      "outputs": []
    },
    {
      "cell_type": "code",
      "source": [
        "y_pred"
      ],
      "metadata": {
        "colab": {
          "base_uri": "https://localhost:8080/"
        },
        "id": "OVKjfjCkE-So",
        "outputId": "0b52ffba-a1da-4521-f3ff-2d3edbc099ca"
      },
      "execution_count": null,
      "outputs": [
        {
          "output_type": "execute_result",
          "data": {
            "text/plain": [
              "array([0, 1, 2, 0, 0, 1, 0, 0, 2, 0, 0, 0, 0, 1, 0, 1, 2, 1, 0, 1, 0, 0,\n",
              "       1, 1, 1, 1, 2, 2, 0, 1, 0, 1, 2, 1, 1, 2, 1, 0, 2, 2, 2, 1, 1, 1,\n",
              "       1, 2, 2, 2, 0, 1, 2, 1, 2, 2, 0, 1, 2, 0, 2, 0, 1, 1, 1, 2, 1, 1,\n",
              "       1, 0, 1, 0, 1, 2, 2, 1, 1, 1, 0, 0, 0, 1, 1, 0, 1, 1, 1, 1, 0, 1,\n",
              "       0, 0, 2, 0, 1, 1, 0, 1, 1, 1, 2, 0, 2, 1, 1, 2, 1, 2, 1, 1, 0, 1,\n",
              "       2, 0, 0, 1, 1, 2, 1, 0, 1, 1, 0, 1, 1, 2, 2, 0, 1, 2, 2, 2, 0, 1,\n",
              "       1, 1, 1, 1, 1, 2, 1, 1, 1, 2, 2, 0, 1, 2, 1, 2, 1, 1, 0, 2, 1, 1,\n",
              "       0, 1, 1, 0, 1, 0, 1, 0, 1, 0, 2, 2, 1, 1, 2, 1, 1, 1, 0, 0, 1, 0,\n",
              "       2, 2, 2, 0, 0, 1, 0, 0, 1, 0, 1, 0, 1, 2, 2, 1, 0, 2, 1, 0, 0, 0,\n",
              "       0, 2, 1, 0, 1, 1, 0, 1, 1, 1, 1, 2, 1, 0, 0, 0, 1, 2, 0, 1, 2, 0,\n",
              "       2, 1, 2, 2, 1, 1, 1, 0, 2, 2, 2])"
            ]
          },
          "metadata": {},
          "execution_count": 19
        }
      ]
    },
    {
      "cell_type": "code",
      "source": [
        "from tensorflow.keras.models import load_model\n",
        "from tensorflow.keras.preprocessing import image"
      ],
      "metadata": {
        "id": "3bwV4VpCFCwm"
      },
      "execution_count": null,
      "outputs": []
    },
    {
      "cell_type": "code",
      "source": [
        "model=load_model('model_resnet50.h5')"
      ],
      "metadata": {
        "id": "JpokZ2MwFGfD"
      },
      "execution_count": null,
      "outputs": []
    },
    {
      "cell_type": "code",
      "source": [
        "img=image.load_img('/content/drive/MyDrive/Split/val/Viable Pic/Case-4-C21-42043-16377.jpg',target_size=(250,250))"
      ],
      "metadata": {
        "id": "Ys37H9Z_FJuk"
      },
      "execution_count": null,
      "outputs": []
    },
    {
      "cell_type": "code",
      "source": [
        "x=image.img_to_array(img)\n",
        "x"
      ],
      "metadata": {
        "colab": {
          "base_uri": "https://localhost:8080/"
        },
        "id": "ApyViA8FFZ9D",
        "outputId": "28d478d5-e9bc-4338-d123-9a288309c2d9"
      },
      "execution_count": null,
      "outputs": [
        {
          "output_type": "execute_result",
          "data": {
            "text/plain": [
              "array([[[167.,  85., 133.],\n",
              "        [216., 129., 171.],\n",
              "        [192., 103., 147.],\n",
              "        ...,\n",
              "        [245., 228., 244.],\n",
              "        [146.,  96., 121.],\n",
              "        [224., 151., 181.]],\n",
              "\n",
              "       [[193., 133., 169.],\n",
              "        [197., 102., 146.],\n",
              "        [201.,  99., 147.],\n",
              "        ...,\n",
              "        [230., 150., 187.],\n",
              "        [255., 229., 250.],\n",
              "        [176., 110., 138.]],\n",
              "\n",
              "       [[239., 197., 221.],\n",
              "        [228., 156., 194.],\n",
              "        [196., 105., 149.],\n",
              "        ...,\n",
              "        [101.,  36.,  68.],\n",
              "        [197., 162., 182.],\n",
              "        [255., 240., 255.]],\n",
              "\n",
              "       ...,\n",
              "\n",
              "       [[174., 108., 156.],\n",
              "        [206., 145., 186.],\n",
              "        [209., 152., 193.],\n",
              "        ...,\n",
              "        [180.,  97., 139.],\n",
              "        [148., 116., 139.],\n",
              "        [191., 104., 139.]],\n",
              "\n",
              "       [[188., 127., 171.],\n",
              "        [187., 137., 172.],\n",
              "        [221., 171., 208.],\n",
              "        ...,\n",
              "        [201., 110., 153.],\n",
              "        [255., 230., 248.],\n",
              "        [246., 185., 216.]],\n",
              "\n",
              "       [[183., 133., 171.],\n",
              "        [234., 200., 227.],\n",
              "        [207., 168., 199.],\n",
              "        ...,\n",
              "        [228., 116., 164.],\n",
              "        [198., 149., 171.],\n",
              "        [230., 202., 224.]]], dtype=float32)"
            ]
          },
          "metadata": {},
          "execution_count": 24
        }
      ]
    },
    {
      "cell_type": "code",
      "source": [
        "x.shape"
      ],
      "metadata": {
        "colab": {
          "base_uri": "https://localhost:8080/"
        },
        "id": "4j5zyq_-Ffb0",
        "outputId": "e4337bc7-7f18-4578-c036-08f200aef0a4"
      },
      "execution_count": null,
      "outputs": [
        {
          "output_type": "execute_result",
          "data": {
            "text/plain": [
              "(250, 250, 3)"
            ]
          },
          "metadata": {},
          "execution_count": 25
        }
      ]
    },
    {
      "cell_type": "code",
      "source": [
        "x=x/255"
      ],
      "metadata": {
        "id": "4jgcHrxQFjqY"
      },
      "execution_count": null,
      "outputs": []
    },
    {
      "cell_type": "code",
      "source": [
        "x=np.expand_dims(x,axis=0)\n",
        "img_data=preprocess_input(x)\n",
        "img_data.shape"
      ],
      "metadata": {
        "colab": {
          "base_uri": "https://localhost:8080/"
        },
        "id": "IMZuTI9MFmgS",
        "outputId": "421a7c3e-effc-4f58-b8ed-2decf8be5d2a"
      },
      "execution_count": null,
      "outputs": [
        {
          "output_type": "execute_result",
          "data": {
            "text/plain": [
              "(1, 250, 250, 3)"
            ]
          },
          "metadata": {},
          "execution_count": 27
        }
      ]
    },
    {
      "cell_type": "code",
      "source": [
        "model.predict(img_data)"
      ],
      "metadata": {
        "colab": {
          "base_uri": "https://localhost:8080/"
        },
        "id": "k7ZnDAgsGVzH",
        "outputId": "15e45cc4-28b7-4b29-c0cb-94436efd654f"
      },
      "execution_count": null,
      "outputs": [
        {
          "output_type": "stream",
          "name": "stdout",
          "text": [
            "1/1 [==============================] - 1s 1s/step\n"
          ]
        },
        {
          "output_type": "execute_result",
          "data": {
            "text/plain": [
              "array([[0.0000000e+00, 1.0000000e+00, 3.0538271e-27, 0.0000000e+00]],\n",
              "      dtype=float32)"
            ]
          },
          "metadata": {},
          "execution_count": 28
        }
      ]
    },
    {
      "cell_type": "code",
      "source": [
        "a=np.argmax(model.predict(img_data), axis=1)"
      ],
      "metadata": {
        "colab": {
          "base_uri": "https://localhost:8080/"
        },
        "id": "xNyoTdUdGX5K",
        "outputId": "f59796d1-9ab9-4433-82ef-97c687a17b8e"
      },
      "execution_count": null,
      "outputs": [
        {
          "output_type": "stream",
          "name": "stdout",
          "text": [
            "1/1 [==============================] - 0s 30ms/step\n"
          ]
        }
      ]
    },
    {
      "cell_type": "code",
      "source": [
        "a==1"
      ],
      "metadata": {
        "id": "QBpI7dKZGbi_",
        "outputId": "4a268268-4cfe-43b0-8a67-6faa7d86a1c3",
        "colab": {
          "base_uri": "https://localhost:8080/"
        }
      },
      "execution_count": null,
      "outputs": [
        {
          "output_type": "execute_result",
          "data": {
            "text/plain": [
              "array([ True])"
            ]
          },
          "metadata": {},
          "execution_count": 30
        }
      ]
    }
  ]
}